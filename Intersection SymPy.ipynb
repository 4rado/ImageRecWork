{
 "cells": [
  {
   "cell_type": "code",
   "execution_count": 32,
   "metadata": {
    "collapsed": false
   },
   "outputs": [
    {
     "name": "stdout",
     "output_type": "stream",
     "text": [
      "1/2\n",
      "[Segment(Point2D(0, 0), Point2D(0, 1)), Point2D(0, 1), Point2D(0, 0), Segment(Point2D(0, 1), Point2D(1, 1)), Point2D(1, 1)]\n",
      "[Point2D(0, 1), Point2D(0, 0), Point2D(1, 1)]\n",
      "1/2\n"
     ]
    }
   ],
   "source": [
    "from sympy import Point, Polygon, Segment, convex_hull\n",
    "\n",
    "p1, p2, p3, p4 = map(Point, [(0, 0), (0, 1), (1, 1), (1, 0)])\n",
    "poly1 = Polygon(p1, p2, p3, p4)\n",
    "p5, p6, p7 = map(Point, [(0, 0), (0, 1), (1, 1)])\n",
    "poly2 = Polygon(p5, p6, p7)\n",
    "print ( abs(poly2.area)\n",
    "points = poly1.intersection(poly2)\n",
    "print(points)\n",
    "polPoints = []\n",
    "for elem in points :\n",
    "    if( not (type(elem) is Segment) )  :\n",
    "        polPoints.append(elem )\n",
    "print (polPoints)\n",
    "poly3 = convex_hull(*polPoints)\n",
    "print (abs(poly3.area))\n",
    "#print (NewPolygon.area)\n",
    "#print(NewPolygon.area())\n"
   ]
  },
  {
   "cell_type": "code",
   "execution_count": null,
   "metadata": {
    "collapsed": true
   },
   "outputs": [],
   "source": []
  }
 ],
 "metadata": {
  "kernelspec": {
   "display_name": "Python 3",
   "language": "python",
   "name": "python3"
  },
  "language_info": {
   "codemirror_mode": {
    "name": "ipython",
    "version": 3
   },
   "file_extension": ".py",
   "mimetype": "text/x-python",
   "name": "python",
   "nbconvert_exporter": "python",
   "pygments_lexer": "ipython3",
   "version": "3.5.1"
  }
 },
 "nbformat": 4,
 "nbformat_minor": 0
}
