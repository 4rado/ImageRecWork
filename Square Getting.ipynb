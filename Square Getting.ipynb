{
 "cells": [
  {
   "cell_type": "code",
   "execution_count": 9,
   "metadata": {
    "collapsed": false
   },
   "outputs": [
    {
     "name": "stdout",
     "output_type": "stream",
     "text": [
      "8.0\n"
     ]
    }
   ],
   "source": [
    "import numpy\n",
    "import math\n",
    "\n",
    "def SquareOfTriangle(A,B,C):\n",
    "    #Векторное произведение\n",
    "    S = abs( (A[0] - B[0])*(C[1] - B[1]) - (C[0] - B[0])*(A[1] - B[1]) ) / 2\n",
    "    return S\n",
    "\n",
    "# Точки идут в порядке обхода\n",
    "def Square( figure ):\n",
    "    startPoint = figure[0]\n",
    "    S = 0\n",
    "    for i in range(1,len(figure)-1):\n",
    "        j = i + 1\n",
    "        S += SquareOfTriangle(startPoint, figure[i], figure[j])\n",
    "    return S\n",
    "\n",
    "A = [2,0]\n",
    "B = [0,-2]\n",
    "C = [2,-4]\n",
    "D = [4,-2]\n",
    "triangle = [B,C,D,A]\n",
    "\n",
    "print( Square(triangle))\n",
    "        "
   ]
  },
  {
   "cell_type": "code",
   "execution_count": null,
   "metadata": {
    "collapsed": true
   },
   "outputs": [],
   "source": []
  }
 ],
 "metadata": {
  "kernelspec": {
   "display_name": "Python 3",
   "language": "python",
   "name": "python3"
  },
  "language_info": {
   "codemirror_mode": {
    "name": "ipython",
    "version": 3
   },
   "file_extension": ".py",
   "mimetype": "text/x-python",
   "name": "python",
   "nbconvert_exporter": "python",
   "pygments_lexer": "ipython3",
   "version": "3.5.1"
  }
 },
 "nbformat": 4,
 "nbformat_minor": 0
}
